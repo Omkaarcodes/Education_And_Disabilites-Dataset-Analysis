{
 "cells": [
  {
   "cell_type": "code",
   "id": "initial_id",
   "metadata": {
    "collapsed": true,
    "ExecuteTime": {
     "end_time": "2025-07-02T18:09:32.901363Z",
     "start_time": "2025-07-02T18:09:32.885290Z"
    }
   },
   "source": [
    "import pandas as pd\n",
    "import numpy as np\n",
    "import seaborn as sns\n",
    "import matplotlib.pyplot as plt\n",
    "from scipy import stats"
   ],
   "outputs": [],
   "execution_count": 1
  },
  {
   "metadata": {
    "ExecuteTime": {
     "end_time": "2025-07-02T18:19:08.340585Z",
     "start_time": "2025-07-02T18:19:04.262467Z"
    }
   },
   "cell_type": "code",
   "source": [
    "school_support = pd.read_csv(\"C:\\\\Users\\Omkaar Sampigeadi\\Downloads\\DataNova Datasets\\\\2021-22-crdc-data\\SCH\\School Support.csv\")\n",
    "enrollment = pd.read_csv(\"C:\\\\Users\\Omkaar Sampigeadi\\Downloads\\DataNova Datasets\\\\2021-22-crdc-data\\SCH\\Enrollment.csv\")\n",
    "corporal_punishment = pd.read_csv(\"C:\\\\Users\\Omkaar Sampigeadi\\Downloads\\DataNova Datasets\\\\2021-22-crdc-data\\SCH\\Corporal Punishment.csv\")\n",
    "expulsions = pd.read_csv(\"C:\\\\Users\\Omkaar Sampigeadi\\Downloads\\DataNova Datasets\\\\2021-22-crdc-data\\SCH\\Expulsions.csv\")"
   ],
   "id": "c5742cf5883e7ba7",
   "outputs": [
    {
     "name": "stderr",
     "output_type": "stream",
     "text": [
      "C:\\Users\\Omkaar Sampigeadi\\AppData\\Local\\Temp\\ipykernel_5832\\1544074868.py:1: DtypeWarning: Columns (2,6) have mixed types. Specify dtype option on import or set low_memory=False.\n",
      "  school_support = pd.read_csv(\"C:\\\\Users\\Omkaar Sampigeadi\\Downloads\\DataNova Datasets\\\\2021-22-crdc-data\\SCH\\School Support.csv\")\n",
      "C:\\Users\\Omkaar Sampigeadi\\AppData\\Local\\Temp\\ipykernel_5832\\1544074868.py:2: DtypeWarning: Columns (2,6) have mixed types. Specify dtype option on import or set low_memory=False.\n",
      "  enrollment = pd.read_csv(\"C:\\\\Users\\Omkaar Sampigeadi\\Downloads\\DataNova Datasets\\\\2021-22-crdc-data\\SCH\\Enrollment.csv\")\n",
      "C:\\Users\\Omkaar Sampigeadi\\AppData\\Local\\Temp\\ipykernel_5832\\1544074868.py:3: DtypeWarning: Columns (2,6) have mixed types. Specify dtype option on import or set low_memory=False.\n",
      "  corporal_punishment = pd.read_csv(\"C:\\\\Users\\Omkaar Sampigeadi\\Downloads\\DataNova Datasets\\\\2021-22-crdc-data\\SCH\\Corporal Punishment.csv\")\n",
      "C:\\Users\\Omkaar Sampigeadi\\AppData\\Local\\Temp\\ipykernel_5832\\1544074868.py:4: DtypeWarning: Columns (2,6) have mixed types. Specify dtype option on import or set low_memory=False.\n",
      "  expulsions = pd.read_csv(\"C:\\\\Users\\Omkaar Sampigeadi\\Downloads\\DataNova Datasets\\\\2021-22-crdc-data\\SCH\\Expulsions.csv\")\n"
     ]
    }
   ],
   "execution_count": 2
  },
  {
   "metadata": {
    "ExecuteTime": {
     "end_time": "2025-07-02T18:47:53.799601Z",
     "start_time": "2025-07-02T18:47:53.783951Z"
    }
   },
   "cell_type": "code",
   "source": "print(\"SCH_ENR_504_F\" in enrollment)",
   "id": "81033f2c9d5d3a59",
   "outputs": [
    {
     "name": "stdout",
     "output_type": "stream",
     "text": [
      "True\n"
     ]
    }
   ],
   "execution_count": 20
  },
  {
   "metadata": {
    "ExecuteTime": {
     "end_time": "2025-07-02T18:51:23.253602Z",
     "start_time": "2025-07-02T18:51:22.870712Z"
    }
   },
   "cell_type": "code",
   "source": [
    "# Descriptive statistics for key metrics\n",
    "def analyze_descriptive_stats(df, metric_columns, table_heading):\n",
    "    \"\"\"Generate descriptive statistics for specified columns\"\"\"\n",
    "    stats_summary = df[metric_columns].describe()\n",
    "    print(f\"Descriptive Statistics: {table_heading}\")\n",
    "    print(stats_summary)\n",
    "    print()\n",
    "\n",
    "\n",
    "# Example for school support data\n",
    "support_metrics = ['SCH_FTETEACH_TOT', 'SCH_FTETEACH_CERT', 'SCH_FTETEACH_NOTCERT']\n",
    "if all(col in school_support.columns for col in support_metrics):\n",
    "   analyze_descriptive_stats(school_support, support_metrics, \"School Support Metrics\")\n",
    "\n",
    "\n",
    "# Example for enrollment data - focusing on disability-related columns\n",
    "disability_metrics = [\n",
    "    'SCH_ENR_IDEA_M',     # Male students served under IDEA (Individuals with Disabilities Education Act)\n",
    "    'SCH_ENR_IDEA_F',     # Female students served under IDEA (Individuals with Disabilities Education Act\n",
    "    'SCH_ENR_504_M',      # Male students with 504 plans (Section 504 of the Rehabilitation Act)\n",
    "    'SCH_ENR_504_F'       # Female students with 504 plans (Section 504 of the Rehabilitation Act)\n",
    "]\n",
    "\n",
    "analyze_descriptive_stats(enrollment, disability_metrics, \"Enrollment Metrics for Students with Disabilities\")\n",
    "\n",
    "# First 5 columns"
   ],
   "id": "31a2f6aa7a75ef06",
   "outputs": [
    {
     "name": "stdout",
     "output_type": "stream",
     "text": [
      "Descriptive Statistics: School Support Metrics\n",
      "       SCH_FTETEACH_TOT  SCH_FTETEACH_CERT  SCH_FTETEACH_NOTCERT\n",
      "count      98010.000000       98010.000000          98010.000000\n",
      "mean          34.605761          33.161289              1.442351\n",
      "std           27.210973          26.455871              4.497697\n",
      "min           -6.000000          -6.000000             -6.000000\n",
      "25%           18.010000          17.000000              0.000000\n",
      "50%           29.330000          28.000000              0.000000\n",
      "75%           43.430000          42.000000              1.000000\n",
      "max         1074.000000         784.000000            305.000000\n",
      "\n",
      "Descriptive Statistics: Enrollment Metrics for Students with Disabilities\n",
      "       SCH_ENR_IDEA_M  SCH_ENR_IDEA_F  SCH_ENR_504_M  SCH_ENR_504_F\n",
      "count    98010.000000    98010.000000   98010.000000   98010.000000\n",
      "mean        44.636700       23.561912       7.944904       5.245975\n",
      "std         44.503713       25.511122      19.941082      16.584246\n",
      "min         -9.000000       -9.000000      -9.000000      -9.000000\n",
      "25%         19.000000        9.000000       0.000000       0.000000\n",
      "50%         36.000000       18.000000       4.000000       2.000000\n",
      "75%         58.000000       31.000000      12.000000       8.000000\n",
      "max       2542.000000     1656.000000     867.000000     844.000000\n",
      "\n"
     ]
    }
   ],
   "execution_count": 22
  },
  {
   "metadata": {},
   "cell_type": "code",
   "outputs": [],
   "execution_count": null,
   "source": "",
   "id": "d7c1a4714dd91f2"
  }
 ],
 "metadata": {
  "kernelspec": {
   "display_name": "Python 3",
   "language": "python",
   "name": "python3"
  },
  "language_info": {
   "codemirror_mode": {
    "name": "ipython",
    "version": 2
   },
   "file_extension": ".py",
   "mimetype": "text/x-python",
   "name": "python",
   "nbconvert_exporter": "python",
   "pygments_lexer": "ipython2",
   "version": "2.7.6"
  }
 },
 "nbformat": 4,
 "nbformat_minor": 5
}
