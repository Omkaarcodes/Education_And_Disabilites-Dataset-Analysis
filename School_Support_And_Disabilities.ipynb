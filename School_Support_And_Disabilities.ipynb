{
 "cells": [
  {
   "cell_type": "code",
   "id": "initial_id",
   "metadata": {
    "collapsed": true,
    "ExecuteTime": {
     "end_time": "2025-07-02T20:15:15.855172Z",
     "start_time": "2025-07-02T20:15:15.835171Z"
    }
   },
   "source": [
    "import pandas as pd\n",
    "import numpy as np\n",
    "import seaborn as sns\n",
    "import matplotlib.pyplot as plt\n",
    "from scipy import stats"
   ],
   "outputs": [],
   "execution_count": 2
  },
  {
   "metadata": {
    "ExecuteTime": {
     "end_time": "2025-07-02T20:15:21.649443Z",
     "start_time": "2025-07-02T20:15:17.036451Z"
    }
   },
   "cell_type": "code",
   "source": [
    "school_support = pd.read_csv(\"C:\\\\Users\\Omkaar Sampigeadi\\Downloads\\DataNova Datasets\\\\2021-22-crdc-data\\SCH\\School Support.csv\")\n",
    "enrollment = pd.read_csv(\"C:\\\\Users\\Omkaar Sampigeadi\\Downloads\\DataNova Datasets\\\\2021-22-crdc-data\\SCH\\Enrollment.csv\")\n",
    "corporal_punishment = pd.read_csv(\"C:\\\\Users\\Omkaar Sampigeadi\\Downloads\\DataNova Datasets\\\\2021-22-crdc-data\\SCH\\Corporal Punishment.csv\")\n",
    "expulsions = pd.read_csv(\"C:\\\\Users\\Omkaar Sampigeadi\\Downloads\\DataNova Datasets\\\\2021-22-crdc-data\\SCH\\Expulsions.csv\")"
   ],
   "id": "c5742cf5883e7ba7",
   "outputs": [
    {
     "name": "stderr",
     "output_type": "stream",
     "text": [
      "C:\\Users\\Omkaar Sampigeadi\\AppData\\Local\\Temp\\ipykernel_23808\\1544074868.py:1: DtypeWarning: Columns (2,6) have mixed types. Specify dtype option on import or set low_memory=False.\n",
      "  school_support = pd.read_csv(\"C:\\\\Users\\Omkaar Sampigeadi\\Downloads\\DataNova Datasets\\\\2021-22-crdc-data\\SCH\\School Support.csv\")\n",
      "C:\\Users\\Omkaar Sampigeadi\\AppData\\Local\\Temp\\ipykernel_23808\\1544074868.py:2: DtypeWarning: Columns (2,6) have mixed types. Specify dtype option on import or set low_memory=False.\n",
      "  enrollment = pd.read_csv(\"C:\\\\Users\\Omkaar Sampigeadi\\Downloads\\DataNova Datasets\\\\2021-22-crdc-data\\SCH\\Enrollment.csv\")\n",
      "C:\\Users\\Omkaar Sampigeadi\\AppData\\Local\\Temp\\ipykernel_23808\\1544074868.py:3: DtypeWarning: Columns (2,6) have mixed types. Specify dtype option on import or set low_memory=False.\n",
      "  corporal_punishment = pd.read_csv(\"C:\\\\Users\\Omkaar Sampigeadi\\Downloads\\DataNova Datasets\\\\2021-22-crdc-data\\SCH\\Corporal Punishment.csv\")\n",
      "C:\\Users\\Omkaar Sampigeadi\\AppData\\Local\\Temp\\ipykernel_23808\\1544074868.py:4: DtypeWarning: Columns (2,6) have mixed types. Specify dtype option on import or set low_memory=False.\n",
      "  expulsions = pd.read_csv(\"C:\\\\Users\\Omkaar Sampigeadi\\Downloads\\DataNova Datasets\\\\2021-22-crdc-data\\SCH\\Expulsions.csv\")\n"
     ]
    }
   ],
   "execution_count": 3
  },
  {
   "metadata": {
    "ExecuteTime": {
     "end_time": "2025-07-02T20:40:06.215025Z",
     "start_time": "2025-07-02T20:40:06.043008Z"
    }
   },
   "cell_type": "code",
   "source": [
    "for key in corporal_punishment.keys():\n",
    "    if \"_DISCWDIS_\" in key:\n",
    "        print(key)"
   ],
   "id": "81033f2c9d5d3a59",
   "outputs": [
    {
     "name": "stdout",
     "output_type": "stream",
     "text": [
      "TOT_DISCWDIS_CORP_IDEA_M\n",
      "TOT_DISCWDIS_CORP_IDEA_F\n",
      "SCH_DISCWDIS_CORP_IDEA_HI_M\n",
      "SCH_DISCWDIS_CORP_IDEA_HI_F\n",
      "SCH_DISCWDIS_CORP_IDEA_AM_M\n",
      "SCH_DISCWDIS_CORP_IDEA_AM_F\n",
      "SCH_DISCWDIS_CORP_IDEA_AS_M\n",
      "SCH_DISCWDIS_CORP_IDEA_AS_F\n",
      "SCH_DISCWDIS_CORP_IDEA_HP_M\n",
      "SCH_DISCWDIS_CORP_IDEA_HP_F\n",
      "SCH_DISCWDIS_CORP_IDEA_BL_M\n",
      "SCH_DISCWDIS_CORP_IDEA_BL_F\n",
      "SCH_DISCWDIS_CORP_IDEA_WH_M\n",
      "SCH_DISCWDIS_CORP_IDEA_WH_F\n",
      "SCH_DISCWDIS_CORP_IDEA_TR_M\n",
      "SCH_DISCWDIS_CORP_IDEA_TR_F\n",
      "SCH_DISCWDIS_CORP_EL_M\n",
      "SCH_DISCWDIS_CORP_EL_F\n",
      "SCH_DISCWDIS_CORP_504_M\n",
      "SCH_DISCWDIS_CORP_504_F\n"
     ]
    }
   ],
   "execution_count": 17
  },
  {
   "metadata": {
    "ExecuteTime": {
     "end_time": "2025-07-02T20:48:20.923806Z",
     "start_time": "2025-07-02T20:48:20.139759Z"
    }
   },
   "cell_type": "code",
   "source": [
    "# Descriptive statistics for key metrics\n",
    "def analyze_descriptive_stats(df, metric_columns, table_heading):\n",
    "    \"\"\"Generate descriptive statistics for specified columns\"\"\"\n",
    "    stats_summary = df[metric_columns].describe()\n",
    "    print(f\"Descriptive Statistics: {table_heading}\")\n",
    "    print(stats_summary)\n",
    "    print()\n",
    "\n",
    "\n",
    "# Example for school support data\n",
    "support_metrics = ['SCH_FTETEACH_TOT', 'SCH_FTETEACH_CERT', 'SCH_FTETEACH_NOTCERT']\n",
    "if all(col in school_support.columns for col in support_metrics):\n",
    "   analyze_descriptive_stats(school_support, support_metrics, \"School Support Metrics\")\n",
    "\n",
    "\n",
    "# Example for enrollment data - focusing on disability-related columns\n",
    "disability_metrics = [\n",
    "    'SCH_ENR_IDEA_M',     # Male students served under IDEA (Individuals with Disabilities Education Act)\n",
    "    'SCH_ENR_IDEA_F',     # Female students served under IDEA (Individuals with Disabilities Education Act\n",
    "    'SCH_ENR_504_M',      # Male students with 504 plans (Section 504 of the Rehabilitation Act)\n",
    "    'SCH_ENR_504_F'       # Female students with 504 plans (Section 504 of the Rehabilitation Act)\n",
    "]\n",
    "\n",
    "analyze_descriptive_stats(enrollment, disability_metrics, \"Enrollment Metrics for Students with Disabilities\")\n",
    "\n",
    "# Descriptive analysis for corporal punishment dataset\n",
    "corporal_disability_metrics = [\n",
    "  key for key in corporal_punishment.keys() if \"_DISCWDIS_\" in key\n",
    "]\n",
    "\n",
    "# Check which columns exist in the dataset\n",
    "existing_corporal_cols = [col for col in corporal_disability_metrics if col in corporal_punishment.columns]\n",
    "if existing_corporal_cols:\n",
    "    analyze_descriptive_stats(corporal_punishment, existing_corporal_cols,\n",
    "                              \"Corporal Punishment for Students with Disabilities\")\n",
    "else:\n",
    "    print(\"No corporal punishment disability columns found in dataset\")\n",
    "\n",
    "# Descriptive analysis for expulsions dataset among IDEA students\n",
    "expulsion_disability_metrics = [\n",
    "    \"SCH_PSDISC_EXP_IDEA_M\",  #\n",
    "    \"SCH_PSDISC_EXP_IDEA_F\",\n",
    "]\n",
    "\n",
    "# Check which columns exist in the dataset\n",
    "existing_expulsion_cols = [col for col in expulsion_disability_metrics if col in expulsions.columns]\n",
    "\n",
    "analyze_descriptive_stats(expulsions, existing_expulsion_cols, \"Expulsions for Students with Disabilities\")\n",
    "if len(existing_expulsion_cols) == 0:\n",
    "    print(\"No expulsion disability columns found in dataset\")\n",
    "# First 5 columns"
   ],
   "id": "31a2f6aa7a75ef06",
   "outputs": [
    {
     "name": "stdout",
     "output_type": "stream",
     "text": [
      "Descriptive Statistics: School Support Metrics\n",
      "       SCH_FTETEACH_TOT  SCH_FTETEACH_CERT  SCH_FTETEACH_NOTCERT\n",
      "count      98010.000000       98010.000000          98010.000000\n",
      "mean          34.605761          33.161289              1.442351\n",
      "std           27.210973          26.455871              4.497697\n",
      "min           -6.000000          -6.000000             -6.000000\n",
      "25%           18.010000          17.000000              0.000000\n",
      "50%           29.330000          28.000000              0.000000\n",
      "75%           43.430000          42.000000              1.000000\n",
      "max         1074.000000         784.000000            305.000000\n",
      "\n",
      "Descriptive Statistics: Enrollment Metrics for Students with Disabilities\n",
      "       SCH_ENR_IDEA_M  SCH_ENR_IDEA_F  SCH_ENR_504_M  SCH_ENR_504_F\n",
      "count    98010.000000    98010.000000   98010.000000   98010.000000\n",
      "mean        44.636700       23.561912       7.944904       5.245975\n",
      "std         44.503713       25.511122      19.941082      16.584246\n",
      "min         -9.000000       -9.000000      -9.000000      -9.000000\n",
      "25%         19.000000        9.000000       0.000000       0.000000\n",
      "50%         36.000000       18.000000       4.000000       2.000000\n",
      "75%         58.000000       31.000000      12.000000       8.000000\n",
      "max       2542.000000     1656.000000     867.000000     844.000000\n",
      "\n",
      "Descriptive Statistics: Corporal Punishment for Students with Disabilities\n",
      "       TOT_DISCWDIS_CORP_IDEA_M  TOT_DISCWDIS_CORP_IDEA_F  \\\n",
      "count              98010.000000              98010.000000   \n",
      "mean                  -8.739445                 -8.767095   \n",
      "std                    1.669749                  1.450860   \n",
      "min                   -9.000000                 -9.000000   \n",
      "25%                   -9.000000                 -9.000000   \n",
      "50%                   -9.000000                 -9.000000   \n",
      "75%                   -9.000000                 -9.000000   \n",
      "max                   27.000000                 10.000000   \n",
      "\n",
      "       SCH_DISCWDIS_CORP_IDEA_HI_M  SCH_DISCWDIS_CORP_IDEA_HI_F  \\\n",
      "count                 98010.000000                 98010.000000   \n",
      "mean                     -8.768462                    -8.771993   \n",
      "std                       1.443196                     1.416224   \n",
      "min                      -9.000000                    -9.000000   \n",
      "25%                      -9.000000                    -9.000000   \n",
      "50%                      -9.000000                    -9.000000   \n",
      "75%                      -9.000000                    -9.000000   \n",
      "max                      20.000000                     8.000000   \n",
      "\n",
      "       SCH_DISCWDIS_CORP_IDEA_AM_M  SCH_DISCWDIS_CORP_IDEA_AM_F  \\\n",
      "count                 98010.000000                 98010.000000   \n",
      "mean                     -8.772074                    -8.772462   \n",
      "std                       1.415589                     1.412881   \n",
      "min                      -9.000000                    -9.000000   \n",
      "25%                      -9.000000                    -9.000000   \n",
      "50%                      -9.000000                    -9.000000   \n",
      "75%                      -9.000000                    -9.000000   \n",
      "max                       4.000000                     1.000000   \n",
      "\n",
      "       SCH_DISCWDIS_CORP_IDEA_AS_M  SCH_DISCWDIS_CORP_IDEA_AS_F  \\\n",
      "count                 98010.000000                 98010.000000   \n",
      "mean                     -8.772462                    -8.772513   \n",
      "std                       1.412881                     1.412546   \n",
      "min                      -9.000000                    -9.000000   \n",
      "25%                      -9.000000                    -9.000000   \n",
      "50%                      -9.000000                    -9.000000   \n",
      "75%                      -9.000000                    -9.000000   \n",
      "max                       1.000000                     0.000000   \n",
      "\n",
      "       SCH_DISCWDIS_CORP_IDEA_HP_M  SCH_DISCWDIS_CORP_IDEA_HP_F  \\\n",
      "count                 98010.000000                 98010.000000   \n",
      "mean                     -8.772503                    -8.772513   \n",
      "std                       1.412613                     1.412546   \n",
      "min                      -9.000000                    -9.000000   \n",
      "25%                      -9.000000                    -9.000000   \n",
      "50%                      -9.000000                    -9.000000   \n",
      "75%                      -9.000000                    -9.000000   \n",
      "max                       1.000000                     0.000000   \n",
      "\n",
      "       SCH_DISCWDIS_CORP_IDEA_BL_M  SCH_DISCWDIS_CORP_IDEA_BL_F  \\\n",
      "count                 98010.000000                 98010.000000   \n",
      "mean                     -8.765299                    -8.770932   \n",
      "std                       1.466047                     1.423527   \n",
      "min                      -9.000000                    -9.000000   \n",
      "25%                      -9.000000                    -9.000000   \n",
      "50%                      -9.000000                    -9.000000   \n",
      "75%                      -9.000000                    -9.000000   \n",
      "max                      12.000000                     8.000000   \n",
      "\n",
      "       SCH_DISCWDIS_CORP_IDEA_WH_M  SCH_DISCWDIS_CORP_IDEA_WH_F  \\\n",
      "count                 98010.000000                 98010.000000   \n",
      "mean                     -8.752209                    -8.769473   \n",
      "std                       1.564681                     1.433573   \n",
      "min                      -9.000000                    -9.000000   \n",
      "25%                      -9.000000                    -9.000000   \n",
      "50%                      -9.000000                    -9.000000   \n",
      "75%                      -9.000000                    -9.000000   \n",
      "max                      23.000000                    10.000000   \n",
      "\n",
      "       SCH_DISCWDIS_CORP_IDEA_TR_M  SCH_DISCWDIS_CORP_IDEA_TR_F  \\\n",
      "count                 98010.000000                 98010.000000   \n",
      "mean                     -8.771513                    -8.772289   \n",
      "std                       1.419209                     1.414040   \n",
      "min                      -9.000000                    -9.000000   \n",
      "25%                      -9.000000                    -9.000000   \n",
      "50%                      -9.000000                    -9.000000   \n",
      "75%                      -9.000000                    -9.000000   \n",
      "max                       3.000000                     3.000000   \n",
      "\n",
      "       SCH_DISCWDIS_CORP_EL_M  SCH_DISCWDIS_CORP_EL_F  \\\n",
      "count            98010.000000            98010.000000   \n",
      "mean                -8.770360               -8.772156   \n",
      "std                  1.431462                1.415393   \n",
      "min                 -9.000000               -9.000000   \n",
      "25%                 -9.000000               -9.000000   \n",
      "50%                 -9.000000               -9.000000   \n",
      "75%                 -9.000000               -9.000000   \n",
      "max                 27.000000               12.000000   \n",
      "\n",
      "       SCH_DISCWDIS_CORP_504_M  SCH_DISCWDIS_CORP_504_F  \n",
      "count             98010.000000             98010.000000  \n",
      "mean                 -8.764330                -8.771105  \n",
      "std                   1.478971                 1.423701  \n",
      "min                  -9.000000                -9.000000  \n",
      "25%                  -9.000000                -9.000000  \n",
      "50%                  -9.000000                -9.000000  \n",
      "75%                  -9.000000                -9.000000  \n",
      "max                  39.000000                21.000000  \n",
      "\n",
      "Descriptive Statistics: Expulsions for Students with Disabilities\n",
      "       SCH_PSDISC_EXP_IDEA_M  SCH_PSDISC_EXP_IDEA_F\n",
      "count           98010.000000           98010.000000\n",
      "mean               -6.092052              -6.093725\n",
      "std                 4.214866               4.210244\n",
      "min                -9.000000              -9.000000\n",
      "25%                -9.000000              -9.000000\n",
      "50%                -9.000000              -9.000000\n",
      "75%                 0.000000               0.000000\n",
      "max                51.000000              33.000000\n",
      "\n"
     ]
    }
   ],
   "execution_count": 19
  },
  {
   "metadata": {
    "ExecuteTime": {
     "end_time": "2025-07-02T20:50:21.103028Z",
     "start_time": "2025-07-02T20:50:20.949737Z"
    }
   },
   "cell_type": "code",
   "source": "",
   "id": "d7c1a4714dd91f2",
   "outputs": [
    {
     "data": {
      "text/plain": [
       "20"
      ]
     },
     "execution_count": 20,
     "metadata": {},
     "output_type": "execute_result"
    }
   ],
   "execution_count": 20
  },
  {
   "metadata": {},
   "cell_type": "code",
   "outputs": [],
   "execution_count": null,
   "source": "",
   "id": "ca29872f73091949"
  }
 ],
 "metadata": {
  "kernelspec": {
   "display_name": "Python 3",
   "language": "python",
   "name": "python3"
  },
  "language_info": {
   "codemirror_mode": {
    "name": "ipython",
    "version": 2
   },
   "file_extension": ".py",
   "mimetype": "text/x-python",
   "name": "python",
   "nbconvert_exporter": "python",
   "pygments_lexer": "ipython2",
   "version": "2.7.6"
  }
 },
 "nbformat": 4,
 "nbformat_minor": 5
}
